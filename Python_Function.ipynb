{
  "nbformat": 4,
  "nbformat_minor": 0,
  "metadata": {
    "colab": {
      "provenance": []
    },
    "kernelspec": {
      "name": "python3",
      "display_name": "Python 3"
    },
    "language_info": {
      "name": "python"
    }
  },
  "cells": [
    {
      "cell_type": "markdown",
      "source": [
        "# **Function in Python**\n",
        "A function in Python is a reusable block of code that performs a specific task. It helps make programs more organized, modular, and easier to read or debug."
      ],
      "metadata": {
        "id": "414ALormdYOP"
      }
    },
    {
      "cell_type": "markdown",
      "source": [
        "**Basic Syntax**\n"
      ],
      "metadata": {
        "id": "vq_Mb8FbdyyG"
      }
    },
    {
      "cell_type": "code",
      "source": [
        "def function_name(parameters):\n",
        "    \"\"\"optional docstring\"\"\"\n",
        "    # code block\n",
        "    return result\n"
      ],
      "metadata": {
        "id": "ql5aYR3Ic31c"
      },
      "execution_count": 3,
      "outputs": []
    },
    {
      "cell_type": "markdown",
      "source": [
        "Function"
      ],
      "metadata": {
        "id": "B2IxpPT7eAwf"
      }
    },
    {
      "cell_type": "code",
      "source": [
        "def greet():\n",
        "    print(\"Hello, Learn python with Akkasha Cheema!\")"
      ],
      "metadata": {
        "id": "RFtFRdoLd86b"
      },
      "execution_count": 6,
      "outputs": []
    },
    {
      "cell_type": "markdown",
      "source": [
        "Call the fucntion"
      ],
      "metadata": {
        "id": "VjbPE4sseFHw"
      }
    },
    {
      "cell_type": "code",
      "source": [
        "greet()"
      ],
      "metadata": {
        "colab": {
          "base_uri": "https://localhost:8080/"
        },
        "id": "a-Y_ydoNc3Re",
        "outputId": "fe061702-50d5-4514-9811-1ca33b2b53e5"
      },
      "execution_count": 7,
      "outputs": [
        {
          "output_type": "stream",
          "name": "stdout",
          "text": [
            "Hello, Learn python with Akkasha Cheema!\n"
          ]
        }
      ]
    },
    {
      "cell_type": "markdown",
      "source": [
        "Function with Parameters"
      ],
      "metadata": {
        "id": "_A-YRDQQevhg"
      }
    },
    {
      "cell_type": "code",
      "source": [
        "def add_numbers(a, b):\n",
        "    return a + b"
      ],
      "metadata": {
        "id": "-Cxa6gsFeINr"
      },
      "execution_count": 8,
      "outputs": []
    },
    {
      "cell_type": "code",
      "source": [
        "result = add_numbers(5, 7)\n",
        "print(\"Sum:\", result)\n"
      ],
      "metadata": {
        "colab": {
          "base_uri": "https://localhost:8080/"
        },
        "id": "orxe79J0eywn",
        "outputId": "81d9bbe4-7460-41d0-8c47-d185d6d514cf"
      },
      "execution_count": 9,
      "outputs": [
        {
          "output_type": "stream",
          "name": "stdout",
          "text": [
            "Sum: 12\n"
          ]
        }
      ]
    },
    {
      "cell_type": "markdown",
      "source": [
        "Function with Default Parameter"
      ],
      "metadata": {
        "id": "K5HjNOr-e6-C"
      }
    },
    {
      "cell_type": "code",
      "source": [
        "def greet(name=\"User\"):\n",
        "    print(f\"Hello, {name}!\")"
      ],
      "metadata": {
        "id": "tfdNDKaae6L7"
      },
      "execution_count": 10,
      "outputs": []
    },
    {
      "cell_type": "code",
      "source": [
        "greet(\"Sana\")\n",
        "greet()\n"
      ],
      "metadata": {
        "colab": {
          "base_uri": "https://localhost:8080/"
        },
        "id": "06XZOhZje_QO",
        "outputId": "d4736cb6-8756-4b21-b9f5-4d459641cf5f"
      },
      "execution_count": 11,
      "outputs": [
        {
          "output_type": "stream",
          "name": "stdout",
          "text": [
            "Hello, Sana!\n",
            "Hello, User!\n"
          ]
        }
      ]
    },
    {
      "cell_type": "markdown",
      "source": [
        "Function Returning Multiple Values"
      ],
      "metadata": {
        "id": "upsGlFm3e-rA"
      }
    },
    {
      "cell_type": "code",
      "source": [
        "def calculate(a, b):\n",
        "    sum_ = a + b\n",
        "    diff = a - b\n",
        "    return sum_, diff\n"
      ],
      "metadata": {
        "id": "JiJEB211fOW8"
      },
      "execution_count": 12,
      "outputs": []
    },
    {
      "cell_type": "code",
      "source": [
        "s, d = calculate(10, 4)\n",
        "print(\"Sum:\", s)\n",
        "print(\"Difference:\", d)\n"
      ],
      "metadata": {
        "colab": {
          "base_uri": "https://localhost:8080/"
        },
        "id": "KTezHjhDfR0t",
        "outputId": "455b2427-3adb-4d98-c9bd-090c756df543"
      },
      "execution_count": 13,
      "outputs": [
        {
          "output_type": "stream",
          "name": "stdout",
          "text": [
            "Sum: 14\n",
            "Difference: 6\n"
          ]
        }
      ]
    }
  ]
}