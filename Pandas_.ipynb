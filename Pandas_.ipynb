{
  "cells": [
    {
      "cell_type": "markdown",
      "id": "961fbf18",
      "metadata": {
        "id": "961fbf18"
      },
      "source": [
        "🐼 Introduction to pandas in Python pandas is a powerful data manipulation and analysis library for Python. It is commonly used for working with tabular data like spreadsheets or databases."
      ]
    },
    {
      "cell_type": "markdown",
      "id": "61af6556",
      "metadata": {
        "id": "61af6556"
      },
      "source": [
        "# DataFrame"
      ]
    },
    {
      "cell_type": "code",
      "execution_count": null,
      "id": "8bbcd6d0",
      "metadata": {
        "id": "8bbcd6d0",
        "outputId": "8fd423a7-a3cf-4c3c-8e86-9ff338862830"
      },
      "outputs": [
        {
          "name": "stdout",
          "output_type": "stream",
          "text": [
            "0    3\n",
            "1    2\n",
            "2    0\n",
            "3    1\n",
            "dtype: int64 0    3\n",
            "1    4\n",
            "2    7\n",
            "3    8\n",
            "dtype: int64\n"
          ]
        }
      ],
      "source": [
        "import pandas as pd\n",
        "\n",
        "apples = pd.Series([3,2,0,1])\n",
        "oranges = pd.Series([3,4,7,8])\n",
        "\n",
        "print(apples, oranges)\n"
      ]
    },
    {
      "cell_type": "code",
      "execution_count": null,
      "id": "3487c6f9",
      "metadata": {
        "id": "3487c6f9",
        "outputId": "0e743557-7ffe-4400-856a-928407c5d5f4"
      },
      "outputs": [
        {
          "name": "stdout",
          "output_type": "stream",
          "text": [
            "   apples  oranges\n",
            "0       3        3\n",
            "1       2        4\n",
            "2       0        7\n",
            "3       1        8\n"
          ]
        }
      ],
      "source": [
        "import pandas as pd\n",
        "\n",
        "apples = pd.Series([3,2,0,1])\n",
        "oranges = pd.Series([3,4,7,8])\n",
        "\n",
        "#print(apples, oranges)\n",
        "\n",
        "data = {\"apples\": apples, \"oranges\": oranges}\n",
        "fruits_df = pd.DataFrame(data)\n",
        "print(fruits_df)"
      ]
    },
    {
      "cell_type": "code",
      "execution_count": null,
      "id": "ac4f007f",
      "metadata": {
        "id": "ac4f007f"
      },
      "outputs": [],
      "source": []
    },
    {
      "cell_type": "markdown",
      "id": "ffac31b9",
      "metadata": {
        "id": "ffac31b9"
      },
      "source": [
        "# keep in mind, Indexes"
      ]
    },
    {
      "cell_type": "code",
      "execution_count": null,
      "id": "4634b10e",
      "metadata": {
        "id": "4634b10e",
        "outputId": "977db9da-4f1c-4786-c132-71ae770b4772"
      },
      "outputs": [
        {
          "name": "stdout",
          "output_type": "stream",
          "text": [
            "     apples  oranges\n",
            "a       3.0      NaN\n",
            "b       2.0      NaN\n",
            "c       0.0      NaN\n",
            "d       1.0      NaN\n",
            "mon     NaN      3.0\n",
            "thr     NaN      1.0\n",
            "tue     NaN      2.0\n",
            "wed     NaN      0.0\n"
          ]
        }
      ],
      "source": [
        "import pandas as pd\n",
        "\n",
        "apples = pd.Series([3,2,0,1], [\"a\", \"b\", \"c\", \"d\"] )\n",
        "\n",
        "oranges = pd.Series([3,2,0,1], index = [\"mon\", \"tue\", \"wed\", \"thr\"])\n",
        "\n",
        "#print(apples, oranges)\n",
        "data = {\"apples\": apples, \"oranges\": oranges}\n",
        "fruits_df = pd.DataFrame(data)\n",
        "print(fruits_df)\n",
        "# index not matched"
      ]
    },
    {
      "cell_type": "code",
      "execution_count": null,
      "id": "344dddb5",
      "metadata": {
        "id": "344dddb5",
        "outputId": "99fff3d7-6459-4e74-ca76-4078c86c0501"
      },
      "outputs": [
        {
          "name": "stdout",
          "output_type": "stream",
          "text": [
            "     apples  oranges\n",
            "mon       3        3\n",
            "tue       2        2\n",
            "wed       0        0\n",
            "thr       1        1\n"
          ]
        }
      ],
      "source": [
        "import pandas as pd\n",
        "\n",
        "apples = pd.Series([3,2,0,1] , index = [\"mon\", \"tue\", \"wed\", \"thr\"] )   # same index\n",
        "oranges = pd.Series([3,2,0,1], index = [\"mon\", \"tue\", \"wed\", \"thr\"])\n",
        "\n",
        "#print(apples,\"\\n\", oranges)\n",
        "data = {\"apples\": apples, \"oranges\": oranges}\n",
        "fruits_df = pd.DataFrame(data)\n",
        "print(fruits_df)"
      ]
    },
    {
      "cell_type": "code",
      "execution_count": null,
      "id": "4a5546d6",
      "metadata": {
        "id": "4a5546d6",
        "outputId": "4a4bb3e6-0445-4db1-dd00-715fec5a58bb"
      },
      "outputs": [
        {
          "name": "stdout",
          "output_type": "stream",
          "text": [
            "      state  year  pop\n",
            "1st    Ohio  2000  1.5\n",
            "2nd    Ohio  2001  1.7\n",
            "3rd    Ohio  2002  3.6\n",
            "4th  Nevada  2001  2.4\n",
            "5th  Nevada  2002  2.9\n",
            "6th  Nevada  2003  3.2\n"
          ]
        }
      ],
      "source": [
        "state = ['Ohio', 'Ohio', 'Ohio', 'Nevada', 'Nevada', 'Nevada']\n",
        "data = {'state': state ,\n",
        "        'year' : [2000, 2001, 2002, 2001, 2002, 2003],\n",
        "        'pop'  : [1.5, 1.7, 3.6, 2.4, 2.9, 3.2]}\n",
        "\n",
        "state_pop_df = pd.DataFrame(data\n",
        "                     , index = ['1st', '2nd', '3rd',\n",
        "                                '4th', '5th','6th'] )\n",
        "print(state_pop_df)"
      ]
    },
    {
      "cell_type": "code",
      "execution_count": null,
      "id": "21f0e356",
      "metadata": {
        "id": "21f0e356",
        "outputId": "70781da8-a580-43da-c7c7-f265d621786e"
      },
      "outputs": [
        {
          "name": "stdout",
          "output_type": "stream",
          "text": [
            "   year   state  pop\n",
            "0  2000    Ohio  1.5\n",
            "1  2001    Ohio  1.7\n",
            "2  2002    Ohio  3.6\n",
            "3  2001  Nevada  2.4\n",
            "4  2002  Nevada  2.9\n",
            "5  2003  Nevada  3.2\n"
          ]
        }
      ],
      "source": [
        "state_pop_df =pd.DataFrame(data, columns=['year', 'state', 'pop'])\n",
        "print(state_pop_df)"
      ]
    },
    {
      "cell_type": "code",
      "execution_count": null,
      "id": "12d45189",
      "metadata": {
        "id": "12d45189",
        "outputId": "203aa7a8-1013-49ad-9906-2c5686523698"
      },
      "outputs": [
        {
          "data": {
            "text/html": [
              "<div>\n",
              "<style scoped>\n",
              "    .dataframe tbody tr th:only-of-type {\n",
              "        vertical-align: middle;\n",
              "    }\n",
              "\n",
              "    .dataframe tbody tr th {\n",
              "        vertical-align: top;\n",
              "    }\n",
              "\n",
              "    .dataframe thead th {\n",
              "        text-align: right;\n",
              "    }\n",
              "</style>\n",
              "<table border=\"1\" class=\"dataframe\">\n",
              "  <thead>\n",
              "    <tr style=\"text-align: right;\">\n",
              "      <th></th>\n",
              "      <th>year</th>\n",
              "      <th>state</th>\n",
              "      <th>pop</th>\n",
              "      <th>debt</th>\n",
              "    </tr>\n",
              "  </thead>\n",
              "  <tbody>\n",
              "    <tr>\n",
              "      <th>one</th>\n",
              "      <td>2000</td>\n",
              "      <td>Ohio</td>\n",
              "      <td>1.5</td>\n",
              "      <td>NaN</td>\n",
              "    </tr>\n",
              "    <tr>\n",
              "      <th>two</th>\n",
              "      <td>2001</td>\n",
              "      <td>Ohio</td>\n",
              "      <td>1.7</td>\n",
              "      <td>NaN</td>\n",
              "    </tr>\n",
              "    <tr>\n",
              "      <th>three</th>\n",
              "      <td>2002</td>\n",
              "      <td>Ohio</td>\n",
              "      <td>3.6</td>\n",
              "      <td>NaN</td>\n",
              "    </tr>\n",
              "    <tr>\n",
              "      <th>four</th>\n",
              "      <td>2001</td>\n",
              "      <td>Nevada</td>\n",
              "      <td>2.4</td>\n",
              "      <td>NaN</td>\n",
              "    </tr>\n",
              "    <tr>\n",
              "      <th>five</th>\n",
              "      <td>2002</td>\n",
              "      <td>Nevada</td>\n",
              "      <td>2.9</td>\n",
              "      <td>NaN</td>\n",
              "    </tr>\n",
              "  </tbody>\n",
              "</table>\n",
              "</div>"
            ],
            "text/plain": [
              "       year   state  pop debt\n",
              "one    2000    Ohio  1.5  NaN\n",
              "two    2001    Ohio  1.7  NaN\n",
              "three  2002    Ohio  3.6  NaN\n",
              "four   2001  Nevada  2.4  NaN\n",
              "five   2002  Nevada  2.9  NaN"
            ]
          },
          "execution_count": 15,
          "metadata": {},
          "output_type": "execute_result"
        }
      ],
      "source": [
        "frame2 = pd.DataFrame(data,\n",
        "                      columns=['year', 'state', 'pop', 'debt'],\n",
        "index=['one', 'two', 'three', 'four','five', 'six'])\n",
        "\n",
        "frame2.head()   # Head function used for displayed 1st 5 rows"
      ]
    },
    {
      "cell_type": "markdown",
      "id": "c237808a",
      "metadata": {
        "id": "c237808a"
      },
      "source": [
        "displaying index and columns names\n",
        "-"
      ]
    },
    {
      "cell_type": "code",
      "execution_count": null,
      "id": "faeae265",
      "metadata": {
        "id": "faeae265",
        "outputId": "f4064b4f-0e3e-43e1-b6bf-293335793c2c"
      },
      "outputs": [
        {
          "name": "stdout",
          "output_type": "stream",
          "text": [
            "Index(['year', 'state', 'pop', 'debt'], dtype='object')\n",
            "Index(['one', 'two', 'three', 'four', 'five', 'six'], dtype='object')\n"
          ]
        }
      ],
      "source": [
        "print(frame2.columns)\n",
        "print( frame2.index )"
      ]
    },
    {
      "cell_type": "code",
      "execution_count": null,
      "id": "4c553d18",
      "metadata": {
        "id": "4c553d18",
        "outputId": "c2f14d9f-5f95-4558-dcdf-cc98323e5e27"
      },
      "outputs": [
        {
          "data": {
            "text/plain": [
              "Index(['year', 'state', 'pop', 'debt'], dtype='object')"
            ]
          },
          "execution_count": 17,
          "metadata": {},
          "output_type": "execute_result"
        }
      ],
      "source": [
        "frame2.columns"
      ]
    },
    {
      "cell_type": "code",
      "execution_count": null,
      "id": "2721a14a",
      "metadata": {
        "id": "2721a14a"
      },
      "outputs": [],
      "source": []
    },
    {
      "cell_type": "markdown",
      "id": "636cb873",
      "metadata": {
        "id": "636cb873"
      },
      "source": [
        "A column in a DataFrame can be retrieved as a Series either by dict-like notation or by attribute:\n",
        "-"
      ]
    },
    {
      "cell_type": "markdown",
      "id": "13e95fbf",
      "metadata": {
        "id": "13e95fbf"
      },
      "source": [
        "dictinary like notation to access or extract\n",
        "-"
      ]
    },
    {
      "cell_type": "code",
      "execution_count": null,
      "id": "a8ed0d3e",
      "metadata": {
        "id": "a8ed0d3e",
        "outputId": "bf48def1-3a9c-4748-bf3f-c00cb1c8a5cc"
      },
      "outputs": [
        {
          "data": {
            "text/plain": [
              "one        Ohio\n",
              "two        Ohio\n",
              "three      Ohio\n",
              "four     Nevada\n",
              "five     Nevada\n",
              "six      Nevada\n",
              "Name: state, dtype: object"
            ]
          },
          "execution_count": 19,
          "metadata": {},
          "output_type": "execute_result"
        }
      ],
      "source": [
        "# this is dictinary like notation to access or extract\n",
        "# dataframe column\n",
        "\n",
        "frame2[\"state\"]"
      ]
    },
    {
      "cell_type": "code",
      "execution_count": null,
      "id": "8c867fd8",
      "metadata": {
        "id": "8c867fd8"
      },
      "outputs": [],
      "source": []
    },
    {
      "cell_type": "markdown",
      "id": "557f8bb2",
      "metadata": {
        "id": "557f8bb2"
      },
      "source": [
        "there frame2 is another method , attribute style of accessing\n",
        "-"
      ]
    },
    {
      "cell_type": "code",
      "execution_count": null,
      "id": "2966d11e",
      "metadata": {
        "id": "2966d11e",
        "outputId": "4e3d30e1-7cd9-4263-a9eb-1d5895b35309"
      },
      "outputs": [
        {
          "data": {
            "text/plain": [
              "one        Ohio\n",
              "two        Ohio\n",
              "three      Ohio\n",
              "four     Nevada\n",
              "five     Nevada\n",
              "six      Nevada\n",
              "Name: state, dtype: object"
            ]
          },
          "execution_count": 20,
          "metadata": {},
          "output_type": "execute_result"
        }
      ],
      "source": [
        "frame2.state\n"
      ]
    },
    {
      "cell_type": "code",
      "execution_count": null,
      "id": "deec0b1e",
      "metadata": {
        "id": "deec0b1e",
        "outputId": "9d9b7d24-8693-4332-ac65-b3f1624f4ce5"
      },
      "outputs": [
        {
          "name": "stdout",
          "output_type": "stream",
          "text": [
            "year     2001\n",
            "state    Ohio\n",
            "pop       1.7\n",
            "debt      NaN\n",
            "Name: two, dtype: object\n",
            "\n"
          ]
        },
        {
          "data": {
            "text/html": [
              "<div>\n",
              "<style scoped>\n",
              "    .dataframe tbody tr th:only-of-type {\n",
              "        vertical-align: middle;\n",
              "    }\n",
              "\n",
              "    .dataframe tbody tr th {\n",
              "        vertical-align: top;\n",
              "    }\n",
              "\n",
              "    .dataframe thead th {\n",
              "        text-align: right;\n",
              "    }\n",
              "</style>\n",
              "<table border=\"1\" class=\"dataframe\">\n",
              "  <thead>\n",
              "    <tr style=\"text-align: right;\">\n",
              "      <th></th>\n",
              "      <th>year</th>\n",
              "      <th>state</th>\n",
              "      <th>pop</th>\n",
              "      <th>debt</th>\n",
              "    </tr>\n",
              "  </thead>\n",
              "  <tbody>\n",
              "    <tr>\n",
              "      <th>one</th>\n",
              "      <td>2000</td>\n",
              "      <td>Ohio</td>\n",
              "      <td>1.5</td>\n",
              "      <td>NaN</td>\n",
              "    </tr>\n",
              "    <tr>\n",
              "      <th>two</th>\n",
              "      <td>2001</td>\n",
              "      <td>Ohio</td>\n",
              "      <td>1.7</td>\n",
              "      <td>NaN</td>\n",
              "    </tr>\n",
              "    <tr>\n",
              "      <th>three</th>\n",
              "      <td>2002</td>\n",
              "      <td>Ohio</td>\n",
              "      <td>3.6</td>\n",
              "      <td>NaN</td>\n",
              "    </tr>\n",
              "    <tr>\n",
              "      <th>four</th>\n",
              "      <td>2001</td>\n",
              "      <td>Nevada</td>\n",
              "      <td>2.4</td>\n",
              "      <td>NaN</td>\n",
              "    </tr>\n",
              "    <tr>\n",
              "      <th>five</th>\n",
              "      <td>2002</td>\n",
              "      <td>Nevada</td>\n",
              "      <td>2.9</td>\n",
              "      <td>NaN</td>\n",
              "    </tr>\n",
              "  </tbody>\n",
              "</table>\n",
              "</div>"
            ],
            "text/plain": [
              "       year   state  pop debt\n",
              "one    2000    Ohio  1.5  NaN\n",
              "two    2001    Ohio  1.7  NaN\n",
              "three  2002    Ohio  3.6  NaN\n",
              "four   2001  Nevada  2.4  NaN\n",
              "five   2002  Nevada  2.9  NaN"
            ]
          },
          "execution_count": 22,
          "metadata": {},
          "output_type": "execute_result"
        }
      ],
      "source": [
        "print(frame2.loc['two'] )  # loc attribute used for specific rows location\n",
        "print()\n",
        "frame2.head()"
      ]
    },
    {
      "cell_type": "code",
      "execution_count": null,
      "id": "36d40144",
      "metadata": {
        "id": "36d40144"
      },
      "outputs": [],
      "source": []
    },
    {
      "cell_type": "markdown",
      "id": "e20eb1ed",
      "metadata": {
        "id": "e20eb1ed"
      },
      "source": [
        "Columns can be modified by assignment. For example, the empty 'debt' column could be assigned a scalar value or an array values:\n",
        "-"
      ]
    },
    {
      "cell_type": "code",
      "execution_count": null,
      "id": "041edae7",
      "metadata": {
        "id": "041edae7",
        "outputId": "2331f30c-7687-49bb-8229-6fbc30b43898"
      },
      "outputs": [
        {
          "data": {
            "text/html": [
              "<div>\n",
              "<style scoped>\n",
              "    .dataframe tbody tr th:only-of-type {\n",
              "        vertical-align: middle;\n",
              "    }\n",
              "\n",
              "    .dataframe tbody tr th {\n",
              "        vertical-align: top;\n",
              "    }\n",
              "\n",
              "    .dataframe thead th {\n",
              "        text-align: right;\n",
              "    }\n",
              "</style>\n",
              "<table border=\"1\" class=\"dataframe\">\n",
              "  <thead>\n",
              "    <tr style=\"text-align: right;\">\n",
              "      <th></th>\n",
              "      <th>year</th>\n",
              "      <th>state</th>\n",
              "      <th>pop</th>\n",
              "      <th>debt</th>\n",
              "    </tr>\n",
              "  </thead>\n",
              "  <tbody>\n",
              "    <tr>\n",
              "      <th>one</th>\n",
              "      <td>2000</td>\n",
              "      <td>Ohio</td>\n",
              "      <td>1.5</td>\n",
              "      <td>16.5</td>\n",
              "    </tr>\n",
              "    <tr>\n",
              "      <th>two</th>\n",
              "      <td>2001</td>\n",
              "      <td>Ohio</td>\n",
              "      <td>1.7</td>\n",
              "      <td>16.5</td>\n",
              "    </tr>\n",
              "    <tr>\n",
              "      <th>three</th>\n",
              "      <td>2002</td>\n",
              "      <td>Ohio</td>\n",
              "      <td>3.6</td>\n",
              "      <td>16.5</td>\n",
              "    </tr>\n",
              "    <tr>\n",
              "      <th>four</th>\n",
              "      <td>2001</td>\n",
              "      <td>Nevada</td>\n",
              "      <td>2.4</td>\n",
              "      <td>16.5</td>\n",
              "    </tr>\n",
              "    <tr>\n",
              "      <th>five</th>\n",
              "      <td>2002</td>\n",
              "      <td>Nevada</td>\n",
              "      <td>2.9</td>\n",
              "      <td>16.5</td>\n",
              "    </tr>\n",
              "  </tbody>\n",
              "</table>\n",
              "</div>"
            ],
            "text/plain": [
              "       year   state  pop  debt\n",
              "one    2000    Ohio  1.5  16.5\n",
              "two    2001    Ohio  1.7  16.5\n",
              "three  2002    Ohio  3.6  16.5\n",
              "four   2001  Nevada  2.4  16.5\n",
              "five   2002  Nevada  2.9  16.5"
            ]
          },
          "execution_count": 23,
          "metadata": {},
          "output_type": "execute_result"
        }
      ],
      "source": [
        "frame2['debt'] = 16.5\n",
        "frame2.head()"
      ]
    },
    {
      "cell_type": "code",
      "execution_count": null,
      "id": "a31ba77b",
      "metadata": {
        "id": "a31ba77b",
        "outputId": "b22530f8-f036-4004-d007-5bb19b16f16a"
      },
      "outputs": [
        {
          "data": {
            "text/html": [
              "<div>\n",
              "<style scoped>\n",
              "    .dataframe tbody tr th:only-of-type {\n",
              "        vertical-align: middle;\n",
              "    }\n",
              "\n",
              "    .dataframe tbody tr th {\n",
              "        vertical-align: top;\n",
              "    }\n",
              "\n",
              "    .dataframe thead th {\n",
              "        text-align: right;\n",
              "    }\n",
              "</style>\n",
              "<table border=\"1\" class=\"dataframe\">\n",
              "  <thead>\n",
              "    <tr style=\"text-align: right;\">\n",
              "      <th></th>\n",
              "      <th>year</th>\n",
              "      <th>state</th>\n",
              "      <th>pop</th>\n",
              "      <th>debt</th>\n",
              "    </tr>\n",
              "  </thead>\n",
              "  <tbody>\n",
              "    <tr>\n",
              "      <th>one</th>\n",
              "      <td>2000</td>\n",
              "      <td>Ohio</td>\n",
              "      <td>1.5</td>\n",
              "      <td>NaN</td>\n",
              "    </tr>\n",
              "    <tr>\n",
              "      <th>two</th>\n",
              "      <td>2001</td>\n",
              "      <td>Ohio</td>\n",
              "      <td>1.7</td>\n",
              "      <td>-1.2</td>\n",
              "    </tr>\n",
              "    <tr>\n",
              "      <th>three</th>\n",
              "      <td>2002</td>\n",
              "      <td>Ohio</td>\n",
              "      <td>3.6</td>\n",
              "      <td>NaN</td>\n",
              "    </tr>\n",
              "    <tr>\n",
              "      <th>four</th>\n",
              "      <td>2001</td>\n",
              "      <td>Nevada</td>\n",
              "      <td>2.4</td>\n",
              "      <td>-1.5</td>\n",
              "    </tr>\n",
              "    <tr>\n",
              "      <th>five</th>\n",
              "      <td>2002</td>\n",
              "      <td>Nevada</td>\n",
              "      <td>2.9</td>\n",
              "      <td>-1.7</td>\n",
              "    </tr>\n",
              "    <tr>\n",
              "      <th>six</th>\n",
              "      <td>2003</td>\n",
              "      <td>Nevada</td>\n",
              "      <td>3.2</td>\n",
              "      <td>2.6</td>\n",
              "    </tr>\n",
              "  </tbody>\n",
              "</table>\n",
              "</div>"
            ],
            "text/plain": [
              "       year   state  pop  debt\n",
              "one    2000    Ohio  1.5   NaN\n",
              "two    2001    Ohio  1.7  -1.2\n",
              "three  2002    Ohio  3.6   NaN\n",
              "four   2001  Nevada  2.4  -1.5\n",
              "five   2002  Nevada  2.9  -1.7\n",
              "six    2003  Nevada  3.2   2.6"
            ]
          },
          "execution_count": 25,
          "metadata": {},
          "output_type": "execute_result"
        }
      ],
      "source": [
        "val = pd.Series([-1.2, -1.5, -1.7, 2.6], index=['two', 'four', 'five', 'six'])\n",
        "\n",
        "frame2['debt'] = val  # in debt column adding values\n",
        "frame2"
      ]
    },
    {
      "cell_type": "code",
      "execution_count": null,
      "id": "cd1fe99f",
      "metadata": {
        "id": "cd1fe99f"
      },
      "outputs": [],
      "source": []
    },
    {
      "cell_type": "markdown",
      "id": "6f6ec3bb",
      "metadata": {
        "id": "6f6ec3bb"
      },
      "source": [
        "# Deleting data (row or column from dataframe)\n"
      ]
    },
    {
      "cell_type": "code",
      "execution_count": null,
      "id": "f24be769",
      "metadata": {
        "id": "f24be769",
        "outputId": "cd8110b6-50e6-4963-bc1c-223da2790e02"
      },
      "outputs": [
        {
          "name": "stdout",
          "output_type": "stream",
          "text": [
            "          one  two  three  four\n",
            "Ohio        0    1      2     3\n",
            "Colorado    4    5      6     7\n",
            "Utah        8    9     10    11\n",
            "New York   12   13     14    15\n"
          ]
        }
      ],
      "source": [
        "import numpy as np\n",
        "import pandas as pd\n",
        "data_df = pd.DataFrame(np.arange(16).reshape((4, 4)),   # random generate values\n",
        "             index=['Ohio', 'Colorado', 'Utah', 'New York'],\n",
        "             columns=['one', 'two', 'three', 'four'])\n",
        "print(data_df)"
      ]
    },
    {
      "cell_type": "markdown",
      "id": "327732d5",
      "metadata": {
        "id": "327732d5"
      },
      "source": [
        "Deleting columns from dataframe\n",
        "-"
      ]
    },
    {
      "cell_type": "code",
      "execution_count": null,
      "id": "4f31ba8b",
      "metadata": {
        "id": "4f31ba8b",
        "outputId": "f01733ec-dda3-4f44-c4f7-8c69126e23a5"
      },
      "outputs": [
        {
          "name": "stdout",
          "output_type": "stream",
          "text": [
            "          one  three  four\n",
            "Ohio        0      2     3\n",
            "Colorado    4      6     7\n",
            "Utah        8     10    11\n",
            "New York   12     14    15\n"
          ]
        }
      ],
      "source": [
        "\n",
        "#You can drop values from the columns by passing axis=1\n",
        "#or axis='columns' :\n",
        "                             #  Deleting two rows\n",
        "data_df = data_df.drop('two', axis=1)\n",
        "print(data_df)\n"
      ]
    },
    {
      "cell_type": "code",
      "execution_count": null,
      "id": "d5485346",
      "metadata": {
        "id": "d5485346",
        "outputId": "daf99c96-929f-4612-b044-fc6f8c55a17e"
      },
      "outputs": [
        {
          "name": "stdout",
          "output_type": "stream",
          "text": [
            "          one  four\n",
            "Ohio        0     3\n",
            "Colorado    4     7\n",
            "Utah        8    11\n",
            "New York   12    15\n"
          ]
        }
      ],
      "source": [
        "data_df.drop('three', axis=1, inplace = True)\n",
        "print(data_df)"
      ]
    },
    {
      "cell_type": "code",
      "execution_count": null,
      "id": "20955623",
      "metadata": {
        "id": "20955623"
      },
      "outputs": [],
      "source": []
    },
    {
      "cell_type": "markdown",
      "id": "51428da6",
      "metadata": {
        "id": "51428da6"
      },
      "source": [
        "Deleting specific rows from DataFrame\n",
        "-"
      ]
    },
    {
      "cell_type": "code",
      "execution_count": null,
      "id": "998c8aa8",
      "metadata": {
        "id": "998c8aa8",
        "outputId": "cfd4782c-38da-4eef-abbc-674242d2d0b1"
      },
      "outputs": [
        {
          "data": {
            "text/html": [
              "<div>\n",
              "<style scoped>\n",
              "    .dataframe tbody tr th:only-of-type {\n",
              "        vertical-align: middle;\n",
              "    }\n",
              "\n",
              "    .dataframe tbody tr th {\n",
              "        vertical-align: top;\n",
              "    }\n",
              "\n",
              "    .dataframe thead th {\n",
              "        text-align: right;\n",
              "    }\n",
              "</style>\n",
              "<table border=\"1\" class=\"dataframe\">\n",
              "  <thead>\n",
              "    <tr style=\"text-align: right;\">\n",
              "      <th></th>\n",
              "      <th>one</th>\n",
              "      <th>four</th>\n",
              "    </tr>\n",
              "  </thead>\n",
              "  <tbody>\n",
              "    <tr>\n",
              "      <th>Ohio</th>\n",
              "      <td>0</td>\n",
              "      <td>3</td>\n",
              "    </tr>\n",
              "    <tr>\n",
              "      <th>Colorado</th>\n",
              "      <td>4</td>\n",
              "      <td>7</td>\n",
              "    </tr>\n",
              "    <tr>\n",
              "      <th>Utah</th>\n",
              "      <td>8</td>\n",
              "      <td>11</td>\n",
              "    </tr>\n",
              "    <tr>\n",
              "      <th>New York</th>\n",
              "      <td>12</td>\n",
              "      <td>15</td>\n",
              "    </tr>\n",
              "  </tbody>\n",
              "</table>\n",
              "</div>"
            ],
            "text/plain": [
              "          one  four\n",
              "Ohio        0     3\n",
              "Colorado    4     7\n",
              "Utah        8    11\n",
              "New York   12    15"
            ]
          },
          "execution_count": 31,
          "metadata": {},
          "output_type": "execute_result"
        }
      ],
      "source": [
        "data_df"
      ]
    },
    {
      "cell_type": "code",
      "execution_count": null,
      "id": "c7f9393d",
      "metadata": {
        "id": "c7f9393d"
      },
      "outputs": [],
      "source": [
        "data_df.drop('Utah', axis = 0, inplace= True)"
      ]
    },
    {
      "cell_type": "code",
      "execution_count": null,
      "id": "29d9efe2",
      "metadata": {
        "id": "29d9efe2",
        "outputId": "72b91262-e636-476b-8282-22dacfcb36b7"
      },
      "outputs": [
        {
          "name": "stdout",
          "output_type": "stream",
          "text": [
            "          one  three  four\n",
            "Ohio        0      2     3\n",
            "Colorado    4      6     7\n",
            "New York   12     14    15\n"
          ]
        }
      ],
      "source": [
        "print(data_df)"
      ]
    },
    {
      "cell_type": "code",
      "execution_count": null,
      "id": "2113a4d4",
      "metadata": {
        "id": "2113a4d4"
      },
      "outputs": [],
      "source": []
    },
    {
      "cell_type": "markdown",
      "id": "d2c78a08",
      "metadata": {
        "id": "d2c78a08"
      },
      "source": [
        "# Selection with loc and iloc"
      ]
    },
    {
      "cell_type": "code",
      "execution_count": null,
      "id": "90972b4a",
      "metadata": {
        "id": "90972b4a",
        "outputId": "c3163b06-0333-4df6-d4ab-a1a035c796a5"
      },
      "outputs": [
        {
          "name": "stdout",
          "output_type": "stream",
          "text": [
            "          one  two  three  four\n",
            "Ohio        0    1      2     3\n",
            "Colorado    4    5      6     7\n",
            "Utah        8    9     10    11\n",
            "New York   12   13     14    15\n"
          ]
        }
      ],
      "source": [
        "import numpy as np\n",
        "import pandas as pd\n",
        "\n",
        "data_df = pd.DataFrame(np.arange(16).reshape((4, 4)),\n",
        "             index=['Ohio', 'Colorado', 'Utah', 'New York'],\n",
        "             columns=['one', 'two', 'three', 'four'])\n",
        "print(data_df)"
      ]
    },
    {
      "cell_type": "code",
      "execution_count": null,
      "id": "272e1595",
      "metadata": {
        "id": "272e1595",
        "outputId": "021373dd-685c-4094-83aa-23c10ae768f2"
      },
      "outputs": [
        {
          "name": "stdout",
          "output_type": "stream",
          "text": [
            "          two  three\n",
            "Colorado    5      6\n",
            "Ohio        1      2\n"
          ]
        }
      ],
      "source": [
        "# in the loc method specify row label first\n",
        "# then specify column names\n",
        "# remember! mutiple column names require array notation\n",
        "\n",
        "print( data_df.loc[['Colorado','Ohio'], ['two',  'three'] ] )"
      ]
    },
    {
      "cell_type": "code",
      "execution_count": null,
      "id": "a0c940eb",
      "metadata": {
        "id": "a0c940eb",
        "outputId": "96ce6df6-5426-4634-f78a-9bb1b73d4877"
      },
      "outputs": [
        {
          "name": "stdout",
          "output_type": "stream",
          "text": [
            "          four  one  two\n",
            "Utah        11    8    9\n",
            "New York    15   12   13\n"
          ]
        }
      ],
      "source": [
        "print( data_df.iloc[2:, [3, 0, 1] ] ) # using number instead of labels\n",
        "\n",
        "            # iloc works row wise operation\n"
      ]
    },
    {
      "cell_type": "code",
      "execution_count": null,
      "id": "348d3926",
      "metadata": {
        "id": "348d3926",
        "outputId": "ec57ded3-9656-4862-c85b-ab7fbd46c30b"
      },
      "outputs": [
        {
          "name": "stdout",
          "output_type": "stream",
          "text": [
            "          one  two  three  four\n",
            "Ohio        0    1      2     3\n",
            "Colorado    4    5      6     7\n",
            "Utah        8    9     10    11\n",
            "New York   12   13     14    15\n"
          ]
        }
      ],
      "source": [
        "print( data_df.iloc[:])"
      ]
    },
    {
      "cell_type": "code",
      "execution_count": null,
      "id": "983fd61d",
      "metadata": {
        "id": "983fd61d",
        "outputId": "edb6a82a-ccf6-4027-d0b4-773980765217"
      },
      "outputs": [
        {
          "name": "stdout",
          "output_type": "stream",
          "text": [
            "          one  two  three\n",
            "Ohio        0    1      2\n",
            "Colorado    4    5      6\n",
            "Utah        8    9     10\n"
          ]
        }
      ],
      "source": [
        "print ( data_df.iloc[ :3 , :3 ] )\n"
      ]
    },
    {
      "cell_type": "code",
      "execution_count": null,
      "id": "38e3d418",
      "metadata": {
        "id": "38e3d418",
        "outputId": "ae848fbe-7564-4b7c-b8a7-02a4793af5ab"
      },
      "outputs": [
        {
          "name": "stdout",
          "output_type": "stream",
          "text": [
            "          one  two  three\n",
            "Ohio        0    1      2\n",
            "Colorado    4    5      6\n",
            "Utah        8    9     10\n",
            "New York   12   13     14\n"
          ]
        }
      ],
      "source": [
        "print( data_df.iloc[:, :3])"
      ]
    },
    {
      "cell_type": "code",
      "execution_count": null,
      "id": "b1fa5420",
      "metadata": {
        "id": "b1fa5420"
      },
      "outputs": [],
      "source": []
    },
    {
      "cell_type": "markdown",
      "id": "880f8f86",
      "metadata": {
        "id": "880f8f86"
      },
      "source": [
        "# Arithmetic methods with fill values\n"
      ]
    },
    {
      "cell_type": "code",
      "execution_count": null,
      "id": "046cf819",
      "metadata": {
        "id": "046cf819",
        "outputId": "ad426f27-9886-47d0-e4a4-a062b363c737"
      },
      "outputs": [
        {
          "name": "stdout",
          "output_type": "stream",
          "text": [
            "     a    b     c     d\n",
            "0  0.0  1.0   2.0   3.0\n",
            "1  4.0  5.0   6.0   7.0\n",
            "2  8.0  9.0  10.0  11.0\n"
          ]
        }
      ],
      "source": [
        "df1 = pd.DataFrame(np.arange(12.).reshape((3, 4)),\n",
        "                   columns=list('abcd'))\n",
        "\n",
        "df2 = pd.DataFrame(np.arange(20.).reshape((4, 5)),\n",
        "                    columns=list('abcde'))\n",
        "print(df1)\n",
        "#print(df2)"
      ]
    },
    {
      "cell_type": "code",
      "execution_count": null,
      "id": "b1d51413",
      "metadata": {
        "id": "b1d51413",
        "outputId": "30f8e455-92e8-4d5b-d2fa-e95649e33a58"
      },
      "outputs": [
        {
          "name": "stdout",
          "output_type": "stream",
          "text": [
            "      a     b     c     d     e\n",
            "0   0.0   1.0   2.0   3.0   4.0\n",
            "1   5.0   6.0   7.0   8.0   9.0\n",
            "2  10.0  11.0  12.0  13.0  14.0\n",
            "3  15.0  16.0  17.0  18.0  19.0\n"
          ]
        }
      ],
      "source": [
        "print(df2)"
      ]
    },
    {
      "cell_type": "code",
      "execution_count": null,
      "id": "ae72f4c5",
      "metadata": {
        "id": "ae72f4c5",
        "outputId": "c82dd1a4-2b62-43bc-f2e3-d7a4b1426617"
      },
      "outputs": [
        {
          "name": "stdout",
          "output_type": "stream",
          "text": [
            "      a     b     c     d   e\n",
            "0   0.0   2.0   4.0   6.0 NaN\n",
            "1   9.0   NaN  13.0  15.0 NaN\n",
            "2  18.0  20.0  22.0  24.0 NaN\n",
            "3   NaN   NaN   NaN   NaN NaN\n"
          ]
        }
      ],
      "source": [
        "df3 = df1+df2\n",
        "print(df3)"
      ]
    },
    {
      "cell_type": "code",
      "execution_count": null,
      "id": "89df72f6",
      "metadata": {
        "id": "89df72f6",
        "outputId": "9192c358-de38-416f-99c9-891902ee1192"
      },
      "outputs": [
        {
          "name": "stdout",
          "output_type": "stream",
          "text": [
            "addition using a method with replacing Nan with 0\n",
            "      a     b     c     d     e\n",
            "0   0.0   2.0   4.0   6.0   4.0\n",
            "1   9.0   5.0  13.0  15.0   9.0\n",
            "2  18.0  20.0  22.0  24.0  14.0\n",
            "3  15.0  16.0  17.0  18.0  19.0\n"
          ]
        }
      ],
      "source": [
        "# We can use add method for filling NaN cells with a value\n",
        "# Nan will be replaced by 0 and then addition operation will apply\n",
        "print(\"addition using a method with replacing Nan with 0\")\n",
        "df3 = df1.add(df2, fill_value=0)\n",
        "print(df3)"
      ]
    },
    {
      "cell_type": "code",
      "execution_count": null,
      "id": "3878ff84",
      "metadata": {
        "id": "3878ff84"
      },
      "outputs": [],
      "source": []
    }
  ],
  "metadata": {
    "kernelspec": {
      "display_name": "Python 3 (ipykernel)",
      "language": "python",
      "name": "python3"
    },
    "language_info": {
      "codemirror_mode": {
        "name": "ipython",
        "version": 3
      },
      "file_extension": ".py",
      "mimetype": "text/x-python",
      "name": "python",
      "nbconvert_exporter": "python",
      "pygments_lexer": "ipython3",
      "version": "3.9.7"
    },
    "colab": {
      "provenance": []
    }
  },
  "nbformat": 4,
  "nbformat_minor": 5
}